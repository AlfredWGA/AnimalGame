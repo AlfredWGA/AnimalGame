{
  "nbformat": 4,
  "nbformat_minor": 0,
  "metadata": {
    "colab": {
      "name": "ner-decoder-backup.ipynb",
      "provenance": [],
      "collapsed_sections": [],
      "toc_visible": true,
      "include_colab_link": true
    },
    "kernelspec": {
      "name": "python3",
      "display_name": "Python 3"
    },
    "accelerator": "GPU"
  },
  "cells": [
    {
      "cell_type": "markdown",
      "metadata": {
        "id": "view-in-github",
        "colab_type": "text"
      },
      "source": [
        "<a href=\"https://colab.research.google.com/github/AlfredWGA/AnimalGame/blob/master/ner_decoder.ipynb\" target=\"_parent\"><img src=\"https://colab.research.google.com/assets/colab-badge.svg\" alt=\"Open In Colab\"/></a>"
      ]
    },
    {
      "cell_type": "markdown",
      "metadata": {
        "id": "IsY0LJOIT_cG"
      },
      "source": [
        "# Implementing a Viterbi Decoder and Evaluation for Sequence Labeling\n",
        "\n",
        "In this assignment, you will build a Viterbi decoder for an LSTM named-entity recognition model. As we mentioned in class, recurrent and bidirectional recurrent neural networks, of which LSTMs are the most common examples, can be used to perform sequence labeling. Although these models encode information from the surrounding words in order to make predictions, there are no \"hard\" constraints on what tags can appear where.\n",
        "\n",
        "There hard constraints are particularly important for tasks that label spans of more than one token. The most common example of a span-labeling task is named-entity recognition (NER). As described in Eisenstein, Jurafksy & Martin, and other texts, the goal of NER is to label spans of one or more words as _mentions_ of an _entity_, such as a person, location, organization, etc.\n",
        "\n",
        "The most common approach to NER is to reduce it to a sequence-labeling task, where each token in the input is labeled either with an `O`, if it is \"outside\" any named-entity span, or with `B-TYPE`, if it is the first token in an entity of type `TYPE`, or with `I-TYPE`, if it is the second or later token in an entity of type `TYPE`. Distinguishing between the first and later tokens of an entity allow us to identify distinct entity spans even when they are adjacent.\n",
        "\n",
        "Common values of `TYPE` include `PER` for person, `LOC` for location, `DATE` for date, and so on. In the dataset we load below, there are 17 distinct types.\n",
        "\n",
        "The span-labeling scheme just described implies that the labels on tokens must obey certain constraints: the tag `I-PER` must follow either `B-PER` or another `I-PER`. It cannot follow `O`, `B-LOC`, or `I-LOC`, i.e., a tag for a different entity type. By themselves, LSTMs or bidirectional LSTMs cannot directly enforce these constraints. This is one reason why conditional random fields (CRFs), which _can_ enforce these constraints, are often layered on top of these recurrent models.\n",
        "\n",
        "In this assignment, you will implement the simplest possible CRF: a CRF so simple that it does not require any training. Rather, it will assign weight 1 to any sequence of tags that obeys the constraints and weight 0 to any sequence of tags that violates them. The inputs to the CRF, which are analogous to the emission probabilities in an HMM, will come from an LSTM.\n",
        "\n",
        "But first, in order to test your decoder, you will also implement some functions to evaluate the output of an NER system according to two metrics:\n",
        "1. You will count the number of _violations_ of the NER label constraints, i.e., how many times `I-TYPE` follows `O` or a tag of a different type or occurs at the beginning of a sentence. This number will be greater than 0 in the raw LSTM output, but should be 0 for your CRF output.\n",
        "1. You will compute the _span-level_ precision, recall, and F1 of NER output. Although the baseline LSTM was trained to achieve high _token-level_ accuracy, this metric can be misleadingly high, since so many tokens are correctly labeled `O`. In other words, what proportion of spans predicted by the model line up exactly with spans in the gold standard, and what proportion of spans in the gold standard were predicted by the model? Define _span_ as a sequence of tags that starts with a `B-TYPE` followed by zero or more `I-TYPE` tags. Sequences solely of `I-TYPE` tags don't count as spans.For more, see the original task definition: https://www.aclweb.org/anthology/W03-0419/.\n",
        "\n",
        "We start with loading some code and data and the describe your tasks in more detail."
      ]
    },
    {
      "cell_type": "markdown",
      "metadata": {
        "id": "Dhnn49QEU_Ik"
      },
      "source": [
        "## Set Up Dependencies and Definitions"
      ]
    },
    {
      "cell_type": "code",
      "metadata": {
        "id": "QJINX1MwOLBT",
        "colab": {
          "base_uri": "https://localhost:8080/"
        },
        "outputId": "bb2abd64-7729-461a-98a1-87b9b55c7dea"
      },
      "source": [
        "!pip install --upgrade spacy==2.1.0 allennlp==0.9.0\n",
        "import spacy"
      ],
      "execution_count": 1,
      "outputs": [
        {
          "output_type": "stream",
          "text": [
            "Collecting spacy==2.1.0\n",
            "\u001b[?25l  Downloading https://files.pythonhosted.org/packages/78/0f/ca790def675011f25bce8775cf9002b5085cd2288f85e891f70b32c18752/spacy-2.1.0-cp37-cp37m-manylinux1_x86_64.whl (27.7MB)\n",
            "\u001b[K     |████████████████████████████████| 27.7MB 107kB/s \n",
            "\u001b[?25hCollecting allennlp==0.9.0\n",
            "\u001b[?25l  Downloading https://files.pythonhosted.org/packages/bb/bb/041115d8bad1447080e5d1e30097c95e4b66e36074277afce8620a61cee3/allennlp-0.9.0-py3-none-any.whl (7.6MB)\n",
            "\u001b[K     |████████████████████████████████| 7.6MB 29.4MB/s \n",
            "\u001b[?25hRequirement already satisfied, skipping upgrade: requests<3.0.0,>=2.13.0 in /usr/local/lib/python3.7/dist-packages (from spacy==2.1.0) (2.23.0)\n",
            "Requirement already satisfied, skipping upgrade: numpy>=1.15.0 in /usr/local/lib/python3.7/dist-packages (from spacy==2.1.0) (1.19.5)\n",
            "Requirement already satisfied, skipping upgrade: cymem<2.1.0,>=2.0.2 in /usr/local/lib/python3.7/dist-packages (from spacy==2.1.0) (2.0.5)\n",
            "Requirement already satisfied, skipping upgrade: jsonschema<3.0.0,>=2.6.0 in /usr/local/lib/python3.7/dist-packages (from spacy==2.1.0) (2.6.0)\n",
            "Collecting preshed<2.1.0,>=2.0.1\n",
            "\u001b[?25l  Downloading https://files.pythonhosted.org/packages/bc/2b/3ecd5d90d2d6fd39fbc520de7d80db5d74defdc2d7c2e15531d9cc3498c7/preshed-2.0.1-cp37-cp37m-manylinux1_x86_64.whl (82kB)\n",
            "\u001b[K     |████████████████████████████████| 92kB 12.0MB/s \n",
            "\u001b[?25hRequirement already satisfied, skipping upgrade: wasabi<1.1.0,>=0.0.12 in /usr/local/lib/python3.7/dist-packages (from spacy==2.1.0) (0.8.2)\n",
            "Collecting blis<0.3.0,>=0.2.2\n",
            "\u001b[?25l  Downloading https://files.pythonhosted.org/packages/fa/5f/47b7b29ad202b2210020e2f33bfb06d1db2abe0e709c2a84736e8a9d1bd5/blis-0.2.4-cp37-cp37m-manylinux1_x86_64.whl (3.2MB)\n",
            "\u001b[K     |████████████████████████████████| 3.2MB 55.8MB/s \n",
            "\u001b[?25hCollecting plac<1.0.0,>=0.9.6\n",
            "  Downloading https://files.pythonhosted.org/packages/9e/9b/62c60d2f5bc135d2aa1d8c8a86aaf84edb719a59c7f11a4316259e61a298/plac-0.9.6-py2.py3-none-any.whl\n",
            "Requirement already satisfied, skipping upgrade: murmurhash<1.1.0,>=0.28.0 in /usr/local/lib/python3.7/dist-packages (from spacy==2.1.0) (1.0.5)\n",
            "Requirement already satisfied, skipping upgrade: srsly<1.1.0,>=0.0.5 in /usr/local/lib/python3.7/dist-packages (from spacy==2.1.0) (1.0.5)\n",
            "Collecting thinc<7.1.0,>=7.0.2\n",
            "\u001b[?25l  Downloading https://files.pythonhosted.org/packages/36/42/d7ea7539af3852fd8c1f0b3adf4a100fb3d72b40b69cef1a764ff979a743/thinc-7.0.8-cp37-cp37m-manylinux1_x86_64.whl (2.1MB)\n",
            "\u001b[K     |████████████████████████████████| 2.1MB 46.1MB/s \n",
            "\u001b[?25hCollecting responses>=0.7\n",
            "  Downloading https://files.pythonhosted.org/packages/a8/ba/03b4c978708510c2ab52a75804530edfd96647f3de44abe1cf25d16150ad/responses-0.13.2-py2.py3-none-any.whl\n",
            "Collecting gevent>=1.3.6\n",
            "\u001b[?25l  Downloading https://files.pythonhosted.org/packages/3e/85/df3d1fd2b60a87455475f93012861b76a411d27ba4a0859939adbe2c9dc3/gevent-21.1.2-cp37-cp37m-manylinux2010_x86_64.whl (5.6MB)\n",
            "\u001b[K     |████████████████████████████████| 5.6MB 50.8MB/s \n",
            "\u001b[?25hCollecting flaky\n",
            "  Downloading https://files.pythonhosted.org/packages/43/0e/2f50064e327f41a1eb811df089f813036e19a64b95e33f8e9e0b96c2447e/flaky-3.7.0-py2.py3-none-any.whl\n",
            "Collecting flask-cors>=3.0.7\n",
            "  Downloading https://files.pythonhosted.org/packages/db/84/901e700de86604b1c4ef4b57110d4e947c218b9997adf5d38fa7da493bce/Flask_Cors-3.0.10-py2.py3-none-any.whl\n",
            "Requirement already satisfied, skipping upgrade: sqlparse>=0.2.4 in /usr/local/lib/python3.7/dist-packages (from allennlp==0.9.0) (0.4.1)\n",
            "Requirement already satisfied, skipping upgrade: tqdm>=4.19 in /usr/local/lib/python3.7/dist-packages (from allennlp==0.9.0) (4.41.1)\n",
            "Collecting pytorch-transformers==1.1.0\n",
            "\u001b[?25l  Downloading https://files.pythonhosted.org/packages/50/89/ad0d6bb932d0a51793eaabcf1617a36ff530dc9ab9e38f765a35dc293306/pytorch_transformers-1.1.0-py3-none-any.whl (158kB)\n",
            "\u001b[K     |████████████████████████████████| 163kB 60.2MB/s \n",
            "\u001b[?25hCollecting boto3\n",
            "\u001b[?25l  Downloading https://files.pythonhosted.org/packages/67/9a/9fc8df4c16a83099cf0118836c145286c69206514ba0f6c8159b1f3fdbde/boto3-1.17.41-py2.py3-none-any.whl (131kB)\n",
            "\u001b[K     |████████████████████████████████| 133kB 53.0MB/s \n",
            "\u001b[?25hCollecting unidecode\n",
            "\u001b[?25l  Downloading https://files.pythonhosted.org/packages/9e/25/723487ca2a52ebcee88a34d7d1f5a4b80b793f179ee0f62d5371938dfa01/Unidecode-1.2.0-py2.py3-none-any.whl (241kB)\n",
            "\u001b[K     |████████████████████████████████| 245kB 56.7MB/s \n",
            "\u001b[?25hRequirement already satisfied, skipping upgrade: editdistance in /usr/local/lib/python3.7/dist-packages (from allennlp==0.9.0) (0.5.3)\n",
            "Collecting word2number>=1.1\n",
            "  Downloading https://files.pythonhosted.org/packages/4a/29/a31940c848521f0725f0df6b25dca8917f13a2025b0e8fcbe5d0457e45e6/word2number-1.1.zip\n",
            "Collecting pytorch-pretrained-bert>=0.6.0\n",
            "\u001b[?25l  Downloading https://files.pythonhosted.org/packages/d7/e0/c08d5553b89973d9a240605b9c12404bcf8227590de62bae27acbcfe076b/pytorch_pretrained_bert-0.6.2-py3-none-any.whl (123kB)\n",
            "\u001b[K     |████████████████████████████████| 133kB 55.0MB/s \n",
            "\u001b[?25hRequirement already satisfied, skipping upgrade: matplotlib>=2.2.3 in /usr/local/lib/python3.7/dist-packages (from allennlp==0.9.0) (3.2.2)\n",
            "Requirement already satisfied, skipping upgrade: pytz>=2017.3 in /usr/local/lib/python3.7/dist-packages (from allennlp==0.9.0) (2018.9)\n",
            "Collecting overrides\n",
            "  Downloading https://files.pythonhosted.org/packages/ff/b1/10f69c00947518e6676bbd43e739733048de64b8dd998e9c2d5a71f44c5d/overrides-3.1.0.tar.gz\n",
            "Requirement already satisfied, skipping upgrade: scipy in /usr/local/lib/python3.7/dist-packages (from allennlp==0.9.0) (1.4.1)\n",
            "Collecting conllu==1.3.1\n",
            "  Downloading https://files.pythonhosted.org/packages/ae/54/b0ae1199f3d01666821b028cd967f7c0ac527ab162af433d3da69242cea2/conllu-1.3.1-py2.py3-none-any.whl\n",
            "Collecting tensorboardX>=1.2\n",
            "\u001b[?25l  Downloading https://files.pythonhosted.org/packages/af/0c/4f41bcd45db376e6fe5c619c01100e9b7531c55791b7244815bac6eac32c/tensorboardX-2.1-py2.py3-none-any.whl (308kB)\n",
            "\u001b[K     |████████████████████████████████| 317kB 51.6MB/s \n",
            "\u001b[?25hCollecting parsimonious>=0.8.0\n",
            "\u001b[?25l  Downloading https://files.pythonhosted.org/packages/02/fc/067a3f89869a41009e1a7cdfb14725f8ddd246f30f63c645e8ef8a1c56f4/parsimonious-0.8.1.tar.gz (45kB)\n",
            "\u001b[K     |████████████████████████████████| 51kB 8.1MB/s \n",
            "\u001b[?25hCollecting jsonpickle\n",
            "  Downloading https://files.pythonhosted.org/packages/bb/1a/f2db026d4d682303793559f1c2bb425ba3ec0d6fd7ac63397790443f2461/jsonpickle-2.0.0-py2.py3-none-any.whl\n",
            "Requirement already satisfied, skipping upgrade: scikit-learn in /usr/local/lib/python3.7/dist-packages (from allennlp==0.9.0) (0.22.2.post1)\n",
            "Requirement already satisfied, skipping upgrade: nltk in /usr/local/lib/python3.7/dist-packages (from allennlp==0.9.0) (3.2.5)\n",
            "Collecting jsonnet>=0.10.0; sys_platform != \"win32\"\n",
            "\u001b[?25l  Downloading https://files.pythonhosted.org/packages/42/40/6f16e5ac994b16fa71c24310f97174ce07d3a97b433275589265c6b94d2b/jsonnet-0.17.0.tar.gz (259kB)\n",
            "\u001b[K     |████████████████████████████████| 266kB 57.4MB/s \n",
            "\u001b[?25hCollecting ftfy\n",
            "\u001b[?25l  Downloading https://files.pythonhosted.org/packages/04/06/e5c80e2e0f979628d47345efba51f7ba386fe95963b11c594209085f5a9b/ftfy-5.9.tar.gz (66kB)\n",
            "\u001b[K     |████████████████████████████████| 71kB 9.8MB/s \n",
            "\u001b[?25hRequirement already satisfied, skipping upgrade: h5py in /usr/local/lib/python3.7/dist-packages (from allennlp==0.9.0) (2.10.0)\n",
            "Requirement already satisfied, skipping upgrade: pytest in /usr/local/lib/python3.7/dist-packages (from allennlp==0.9.0) (3.6.4)\n",
            "Requirement already satisfied, skipping upgrade: torch>=1.2.0 in /usr/local/lib/python3.7/dist-packages (from allennlp==0.9.0) (1.8.1+cu101)\n",
            "Collecting numpydoc>=0.8.0\n",
            "\u001b[?25l  Downloading https://files.pythonhosted.org/packages/60/1d/9e398c53d6ae27d5ab312ddc16a9ffe1bee0dfdf1d6ec88c40b0ca97582e/numpydoc-1.1.0-py3-none-any.whl (47kB)\n",
            "\u001b[K     |████████████████████████████████| 51kB 7.0MB/s \n",
            "\u001b[?25hRequirement already satisfied, skipping upgrade: flask>=1.0.2 in /usr/local/lib/python3.7/dist-packages (from allennlp==0.9.0) (1.1.2)\n",
            "Requirement already satisfied, skipping upgrade: idna<3,>=2.5 in /usr/local/lib/python3.7/dist-packages (from requests<3.0.0,>=2.13.0->spacy==2.1.0) (2.10)\n",
            "Requirement already satisfied, skipping upgrade: certifi>=2017.4.17 in /usr/local/lib/python3.7/dist-packages (from requests<3.0.0,>=2.13.0->spacy==2.1.0) (2020.12.5)\n",
            "Requirement already satisfied, skipping upgrade: urllib3!=1.25.0,!=1.25.1,<1.26,>=1.21.1 in /usr/local/lib/python3.7/dist-packages (from requests<3.0.0,>=2.13.0->spacy==2.1.0) (1.24.3)\n",
            "Requirement already satisfied, skipping upgrade: chardet<4,>=3.0.2 in /usr/local/lib/python3.7/dist-packages (from requests<3.0.0,>=2.13.0->spacy==2.1.0) (3.0.4)\n",
            "Requirement already satisfied, skipping upgrade: six in /usr/local/lib/python3.7/dist-packages (from responses>=0.7->allennlp==0.9.0) (1.15.0)\n",
            "Collecting zope.interface\n",
            "\u001b[?25l  Downloading https://files.pythonhosted.org/packages/89/57/8a68360d697cf9159cba5ee35f2d25bdcda33883e8b5a997714a191a0b11/zope.interface-5.3.0-cp37-cp37m-manylinux2010_x86_64.whl (248kB)\n",
            "\u001b[K     |████████████████████████████████| 256kB 52.6MB/s \n",
            "\u001b[?25hRequirement already satisfied, skipping upgrade: greenlet<2.0,>=0.4.17; platform_python_implementation == \"CPython\" in /usr/local/lib/python3.7/dist-packages (from gevent>=1.3.6->allennlp==0.9.0) (1.0.0)\n",
            "Collecting zope.event\n",
            "  Downloading https://files.pythonhosted.org/packages/9e/85/b45408c64f3b888976f1d5b37eed8d746b8d5729a66a49ec846fda27d371/zope.event-4.5.0-py2.py3-none-any.whl\n",
            "Requirement already satisfied, skipping upgrade: setuptools in /usr/local/lib/python3.7/dist-packages (from gevent>=1.3.6->allennlp==0.9.0) (54.2.0)\n",
            "Requirement already satisfied, skipping upgrade: regex in /usr/local/lib/python3.7/dist-packages (from pytorch-transformers==1.1.0->allennlp==0.9.0) (2019.12.20)\n",
            "Collecting sentencepiece\n",
            "\u001b[?25l  Downloading https://files.pythonhosted.org/packages/f5/99/e0808cb947ba10f575839c43e8fafc9cc44e4a7a2c8f79c60db48220a577/sentencepiece-0.1.95-cp37-cp37m-manylinux2014_x86_64.whl (1.2MB)\n",
            "\u001b[K     |████████████████████████████████| 1.2MB 46.6MB/s \n",
            "\u001b[?25hCollecting botocore<1.21.0,>=1.20.41\n",
            "\u001b[?25l  Downloading https://files.pythonhosted.org/packages/aa/54/4ea06a5c857e60750a67ad0d5e73e32e45ce065ebfa3da389432c4420de8/botocore-1.20.41-py2.py3-none-any.whl (7.4MB)\n",
            "\u001b[K     |████████████████████████████████| 7.4MB 40.1MB/s \n",
            "\u001b[?25hCollecting s3transfer<0.4.0,>=0.3.0\n",
            "\u001b[?25l  Downloading https://files.pythonhosted.org/packages/98/14/0b4be62b65c52d6d1c442f24e02d2a9889a73d3c352002e14c70f84a679f/s3transfer-0.3.6-py2.py3-none-any.whl (73kB)\n",
            "\u001b[K     |████████████████████████████████| 81kB 11.2MB/s \n",
            "\u001b[?25hCollecting jmespath<1.0.0,>=0.7.1\n",
            "  Downloading https://files.pythonhosted.org/packages/07/cb/5f001272b6faeb23c1c9e0acc04d48eaaf5c862c17709d20e3469c6e0139/jmespath-0.10.0-py2.py3-none-any.whl\n",
            "Requirement already satisfied, skipping upgrade: kiwisolver>=1.0.1 in /usr/local/lib/python3.7/dist-packages (from matplotlib>=2.2.3->allennlp==0.9.0) (1.3.1)\n",
            "Requirement already satisfied, skipping upgrade: pyparsing!=2.0.4,!=2.1.2,!=2.1.6,>=2.0.1 in /usr/local/lib/python3.7/dist-packages (from matplotlib>=2.2.3->allennlp==0.9.0) (2.4.7)\n",
            "Requirement already satisfied, skipping upgrade: cycler>=0.10 in /usr/local/lib/python3.7/dist-packages (from matplotlib>=2.2.3->allennlp==0.9.0) (0.10.0)\n",
            "Requirement already satisfied, skipping upgrade: python-dateutil>=2.1 in /usr/local/lib/python3.7/dist-packages (from matplotlib>=2.2.3->allennlp==0.9.0) (2.8.1)\n",
            "Requirement already satisfied, skipping upgrade: protobuf>=3.8.0 in /usr/local/lib/python3.7/dist-packages (from tensorboardX>=1.2->allennlp==0.9.0) (3.12.4)\n",
            "Requirement already satisfied, skipping upgrade: importlib-metadata; python_version < \"3.8\" in /usr/local/lib/python3.7/dist-packages (from jsonpickle->allennlp==0.9.0) (3.8.1)\n",
            "Requirement already satisfied, skipping upgrade: joblib>=0.11 in /usr/local/lib/python3.7/dist-packages (from scikit-learn->allennlp==0.9.0) (1.0.1)\n",
            "Requirement already satisfied, skipping upgrade: wcwidth in /usr/local/lib/python3.7/dist-packages (from ftfy->allennlp==0.9.0) (0.2.5)\n",
            "Requirement already satisfied, skipping upgrade: more-itertools>=4.0.0 in /usr/local/lib/python3.7/dist-packages (from pytest->allennlp==0.9.0) (8.7.0)\n",
            "Requirement already satisfied, skipping upgrade: attrs>=17.4.0 in /usr/local/lib/python3.7/dist-packages (from pytest->allennlp==0.9.0) (20.3.0)\n",
            "Requirement already satisfied, skipping upgrade: pluggy<0.8,>=0.5 in /usr/local/lib/python3.7/dist-packages (from pytest->allennlp==0.9.0) (0.7.1)\n",
            "Requirement already satisfied, skipping upgrade: atomicwrites>=1.0 in /usr/local/lib/python3.7/dist-packages (from pytest->allennlp==0.9.0) (1.4.0)\n",
            "Requirement already satisfied, skipping upgrade: py>=1.5.0 in /usr/local/lib/python3.7/dist-packages (from pytest->allennlp==0.9.0) (1.10.0)\n",
            "Requirement already satisfied, skipping upgrade: typing-extensions in /usr/local/lib/python3.7/dist-packages (from torch>=1.2.0->allennlp==0.9.0) (3.7.4.3)\n",
            "Requirement already satisfied, skipping upgrade: sphinx>=1.6.5 in /usr/local/lib/python3.7/dist-packages (from numpydoc>=0.8.0->allennlp==0.9.0) (1.8.5)\n",
            "Requirement already satisfied, skipping upgrade: Jinja2>=2.3 in /usr/local/lib/python3.7/dist-packages (from numpydoc>=0.8.0->allennlp==0.9.0) (2.11.3)\n",
            "Requirement already satisfied, skipping upgrade: Werkzeug>=0.15 in /usr/local/lib/python3.7/dist-packages (from flask>=1.0.2->allennlp==0.9.0) (1.0.1)\n",
            "Requirement already satisfied, skipping upgrade: click>=5.1 in /usr/local/lib/python3.7/dist-packages (from flask>=1.0.2->allennlp==0.9.0) (7.1.2)\n",
            "Requirement already satisfied, skipping upgrade: itsdangerous>=0.24 in /usr/local/lib/python3.7/dist-packages (from flask>=1.0.2->allennlp==0.9.0) (1.1.0)\n",
            "Requirement already satisfied, skipping upgrade: zipp>=0.5 in /usr/local/lib/python3.7/dist-packages (from importlib-metadata; python_version < \"3.8\"->jsonpickle->allennlp==0.9.0) (3.4.1)\n",
            "Requirement already satisfied, skipping upgrade: alabaster<0.8,>=0.7 in /usr/local/lib/python3.7/dist-packages (from sphinx>=1.6.5->numpydoc>=0.8.0->allennlp==0.9.0) (0.7.12)\n",
            "Requirement already satisfied, skipping upgrade: sphinxcontrib-websupport in /usr/local/lib/python3.7/dist-packages (from sphinx>=1.6.5->numpydoc>=0.8.0->allennlp==0.9.0) (1.2.4)\n",
            "Requirement already satisfied, skipping upgrade: docutils>=0.11 in /usr/local/lib/python3.7/dist-packages (from sphinx>=1.6.5->numpydoc>=0.8.0->allennlp==0.9.0) (0.16)\n",
            "Requirement already satisfied, skipping upgrade: Pygments>=2.0 in /usr/local/lib/python3.7/dist-packages (from sphinx>=1.6.5->numpydoc>=0.8.0->allennlp==0.9.0) (2.6.1)\n",
            "Requirement already satisfied, skipping upgrade: packaging in /usr/local/lib/python3.7/dist-packages (from sphinx>=1.6.5->numpydoc>=0.8.0->allennlp==0.9.0) (20.9)\n",
            "Requirement already satisfied, skipping upgrade: snowballstemmer>=1.1 in /usr/local/lib/python3.7/dist-packages (from sphinx>=1.6.5->numpydoc>=0.8.0->allennlp==0.9.0) (2.1.0)\n",
            "Requirement already satisfied, skipping upgrade: imagesize in /usr/local/lib/python3.7/dist-packages (from sphinx>=1.6.5->numpydoc>=0.8.0->allennlp==0.9.0) (1.2.0)\n",
            "Requirement already satisfied, skipping upgrade: babel!=2.0,>=1.3 in /usr/local/lib/python3.7/dist-packages (from sphinx>=1.6.5->numpydoc>=0.8.0->allennlp==0.9.0) (2.9.0)\n",
            "Requirement already satisfied, skipping upgrade: MarkupSafe>=0.23 in /usr/local/lib/python3.7/dist-packages (from Jinja2>=2.3->numpydoc>=0.8.0->allennlp==0.9.0) (1.1.1)\n",
            "Requirement already satisfied, skipping upgrade: sphinxcontrib-serializinghtml in /usr/local/lib/python3.7/dist-packages (from sphinxcontrib-websupport->sphinx>=1.6.5->numpydoc>=0.8.0->allennlp==0.9.0) (1.1.4)\n",
            "Building wheels for collected packages: word2number, overrides, parsimonious, jsonnet, ftfy\n",
            "  Building wheel for word2number (setup.py) ... \u001b[?25l\u001b[?25hdone\n",
            "  Created wheel for word2number: filename=word2number-1.1-cp37-none-any.whl size=5589 sha256=00de7d4806f6274a611adcf6683e0b62442e0322608c133cd79f821833a942e3\n",
            "  Stored in directory: /root/.cache/pip/wheels/46/2f/53/5f5c1d275492f2fce1cdab9a9bb12d49286dead829a4078e0e\n",
            "  Building wheel for overrides (setup.py) ... \u001b[?25l\u001b[?25hdone\n",
            "  Created wheel for overrides: filename=overrides-3.1.0-cp37-none-any.whl size=10174 sha256=bb086a4acbbb0829decefa1129b17c5724d2b9ef3f94248807e9b442c0b32371\n",
            "  Stored in directory: /root/.cache/pip/wheels/5c/24/13/6ef8600e6f147c95e595f1289a86a3cc82ed65df57582c65a9\n",
            "  Building wheel for parsimonious (setup.py) ... \u001b[?25l\u001b[?25hdone\n",
            "  Created wheel for parsimonious: filename=parsimonious-0.8.1-cp37-none-any.whl size=42711 sha256=9629d0a25cb892228bed36c20af7ef16a177ec8425f82d78a55f123df2d75ae0\n",
            "  Stored in directory: /root/.cache/pip/wheels/b7/8d/e7/a0e74217da5caeb3c1c7689639b6d28ddbf9985b840bc96a9a\n",
            "  Building wheel for jsonnet (setup.py) ... \u001b[?25l\u001b[?25hdone\n",
            "  Created wheel for jsonnet: filename=jsonnet-0.17.0-cp37-cp37m-linux_x86_64.whl size=3388782 sha256=959f1819cc6b51962aec12222f004a30613a600e775ad887c6cd156dddb8701b\n",
            "  Stored in directory: /root/.cache/pip/wheels/26/7a/37/7dbcc30a6b4efd17b91ad1f0128b7bbf84813bd4e1cfb8c1e3\n",
            "  Building wheel for ftfy (setup.py) ... \u001b[?25l\u001b[?25hdone\n",
            "  Created wheel for ftfy: filename=ftfy-5.9-cp37-none-any.whl size=46451 sha256=f0b972cde5ef932905fef839ef6a5cfe340e3d5212df126c5510843b2e90c4c3\n",
            "  Stored in directory: /root/.cache/pip/wheels/5e/2e/f0/b07196e8c929114998f0316894a61c752b63bfa3fdd50d2fc3\n",
            "Successfully built word2number overrides parsimonious jsonnet ftfy\n",
            "\u001b[31mERROR: en-core-web-sm 2.2.5 has requirement spacy>=2.2.2, but you'll have spacy 2.1.0 which is incompatible.\u001b[0m\n",
            "\u001b[31mERROR: responses 0.13.2 has requirement urllib3>=1.25.10, but you'll have urllib3 1.24.3 which is incompatible.\u001b[0m\n",
            "\u001b[31mERROR: botocore 1.20.41 has requirement urllib3<1.27,>=1.25.4, but you'll have urllib3 1.24.3 which is incompatible.\u001b[0m\n",
            "Installing collected packages: preshed, blis, plac, thinc, spacy, responses, zope.interface, zope.event, gevent, flaky, flask-cors, sentencepiece, jmespath, botocore, s3transfer, boto3, pytorch-transformers, unidecode, word2number, pytorch-pretrained-bert, overrides, conllu, tensorboardX, parsimonious, jsonpickle, jsonnet, ftfy, numpydoc, allennlp\n",
            "  Found existing installation: preshed 3.0.5\n",
            "    Uninstalling preshed-3.0.5:\n",
            "      Successfully uninstalled preshed-3.0.5\n",
            "  Found existing installation: blis 0.4.1\n",
            "    Uninstalling blis-0.4.1:\n",
            "      Successfully uninstalled blis-0.4.1\n",
            "  Found existing installation: plac 1.1.3\n",
            "    Uninstalling plac-1.1.3:\n",
            "      Successfully uninstalled plac-1.1.3\n",
            "  Found existing installation: thinc 7.4.0\n",
            "    Uninstalling thinc-7.4.0:\n",
            "      Successfully uninstalled thinc-7.4.0\n",
            "  Found existing installation: spacy 2.2.4\n",
            "    Uninstalling spacy-2.2.4:\n",
            "      Successfully uninstalled spacy-2.2.4\n",
            "Successfully installed allennlp-0.9.0 blis-0.2.4 boto3-1.17.41 botocore-1.20.41 conllu-1.3.1 flaky-3.7.0 flask-cors-3.0.10 ftfy-5.9 gevent-21.1.2 jmespath-0.10.0 jsonnet-0.17.0 jsonpickle-2.0.0 numpydoc-1.1.0 overrides-3.1.0 parsimonious-0.8.1 plac-0.9.6 preshed-2.0.1 pytorch-pretrained-bert-0.6.2 pytorch-transformers-1.1.0 responses-0.13.2 s3transfer-0.3.6 sentencepiece-0.1.95 spacy-2.1.0 tensorboardX-2.1 thinc-7.0.8 unidecode-1.2.0 word2number-1.1 zope.event-4.5.0 zope.interface-5.3.0\n"
          ],
          "name": "stdout"
        }
      ]
    },
    {
      "cell_type": "code",
      "metadata": {
        "id": "f4zJfaIlJ2bv",
        "colab": {
          "base_uri": "https://localhost:8080/"
        },
        "outputId": "444edc11-c88a-4dd4-c780-c24b74b16423"
      },
      "source": [
        "from typing import Iterator, List, Dict\n",
        "import torch\n",
        "import torch.optim as optim\n",
        "import numpy as np\n",
        "from allennlp.data import Instance\n",
        "from allennlp.data.fields import TextField, SequenceLabelField\n",
        "from allennlp.data.dataset_readers import DatasetReader\n",
        "from allennlp.common.file_utils import cached_path\n",
        "from allennlp.data.token_indexers import TokenIndexer, SingleIdTokenIndexer\n",
        "from allennlp.data.tokenizers import Token\n",
        "from allennlp.data.vocabulary import Vocabulary\n",
        "from allennlp.models import Model\n",
        "from allennlp.modules.text_field_embedders import TextFieldEmbedder, BasicTextFieldEmbedder\n",
        "from allennlp.modules.token_embedders import Embedding\n",
        "from allennlp.modules.seq2seq_encoders import Seq2SeqEncoder, PytorchSeq2SeqWrapper\n",
        "from allennlp.nn.util import get_text_field_mask, sequence_cross_entropy_with_logits\n",
        "from allennlp.training.metrics import CategoricalAccuracy\n",
        "from allennlp.data.iterators import BucketIterator\n",
        "from allennlp.training.trainer import Trainer\n",
        "from allennlp.predictors import SentenceTaggerPredictor\n",
        "from allennlp.data.dataset_readers import conll2003\n",
        "\n",
        "torch.manual_seed(1)"
      ],
      "execution_count": 2,
      "outputs": [
        {
          "output_type": "execute_result",
          "data": {
            "text/plain": [
              "<torch._C.Generator at 0x7faea1206730>"
            ]
          },
          "metadata": {
            "tags": []
          },
          "execution_count": 2
        }
      ]
    },
    {
      "cell_type": "code",
      "metadata": {
        "id": "Qo16Ko0Gchxk"
      },
      "source": [
        "class LstmTagger(Model):\n",
        "  def __init__(self,\n",
        "               word_embeddings: TextFieldEmbedder,\n",
        "               encoder: Seq2SeqEncoder,\n",
        "               vocab: Vocabulary) -> None:\n",
        "    super().__init__(vocab)\n",
        "    self.word_embeddings = word_embeddings\n",
        "    self.encoder = encoder\n",
        "    self.hidden2tag = torch.nn.Linear(in_features=encoder.get_output_dim(),\n",
        "                                      out_features=vocab.get_vocab_size('labels'))\n",
        "    self.accuracy = CategoricalAccuracy()\n",
        "\n",
        "  def forward(self,\n",
        "              tokens: Dict[str, torch.Tensor],\n",
        "              metadata,\n",
        "              tags: torch.Tensor = None) -> Dict[str, torch.Tensor]:\n",
        "    mask = get_text_field_mask(tokens)\n",
        "    embeddings = self.word_embeddings(tokens)\n",
        "    encoder_out = self.encoder(embeddings, mask)\n",
        "    tag_logits = self.hidden2tag(encoder_out)\n",
        "    output = {\"tag_logits\": tag_logits}\n",
        "    if tags is not None:\n",
        "      self.accuracy(tag_logits, tags, mask)\n",
        "      output[\"loss\"] = sequence_cross_entropy_with_logits(tag_logits, tags, mask)\n",
        "\n",
        "    return output\n",
        "\n",
        "  def get_metrics(self, reset: bool = False) -> Dict[str, float]:\n",
        "    return {\"accuracy\": self.accuracy.get_metric(reset)}"
      ],
      "execution_count": 3,
      "outputs": []
    },
    {
      "cell_type": "markdown",
      "metadata": {
        "id": "mVdKvPftVVLt"
      },
      "source": [
        "## Import Data"
      ]
    },
    {
      "cell_type": "code",
      "metadata": {
        "id": "5sOVVZslKm3N",
        "colab": {
          "base_uri": "https://localhost:8080/"
        },
        "outputId": "710be427-406a-4f2a-b663-5a2d558d14b9"
      },
      "source": [
        "reader = conll2003.Conll2003DatasetReader()\n",
        "train_dataset = reader.read(cached_path('http://www.ccs.neu.edu/home/dasmith/onto.train.ner.sample'))\n",
        "validation_dataset = reader.read(cached_path('http://www.ccs.neu.edu/home/dasmith/onto.development.ner.sample'))\n",
        "\n",
        "from itertools import chain\n",
        "vocab = Vocabulary.from_instances(chain(train_dataset, validation_dataset))"
      ],
      "execution_count": 4,
      "outputs": [
        {
          "output_type": "stream",
          "text": [
            "159377B [00:00, 38424762.24B/s]\n",
            "562it [00:00, 4464.95it/s]\n",
            "8366B [00:00, 19049699.93B/s]\n",
            "23it [00:00, 7337.16it/s]\n",
            "585it [00:00, 61200.93it/s]\n"
          ],
          "name": "stderr"
        }
      ]
    },
    {
      "cell_type": "markdown",
      "metadata": {
        "id": "wpg2Udr-Vnwm"
      },
      "source": [
        "## Define and Train Model"
      ]
    },
    {
      "cell_type": "code",
      "metadata": {
        "id": "8kDQQBMywdKx",
        "colab": {
          "base_uri": "https://localhost:8080/"
        },
        "outputId": "8780117f-09be-49ea-e066-e0ec0605b8b4"
      },
      "source": [
        "EMBEDDING_DIM = 6\n",
        "HIDDEN_DIM = 6\n",
        "token_embedding = Embedding(num_embeddings=vocab.get_vocab_size('tokens'),\n",
        "                            embedding_dim=EMBEDDING_DIM)\n",
        "word_embeddings = BasicTextFieldEmbedder({\"tokens\": token_embedding})\n",
        "lstm = PytorchSeq2SeqWrapper(torch.nn.LSTM(EMBEDDING_DIM, HIDDEN_DIM, bidirectional=False, batch_first=True))\n",
        "model = LstmTagger(word_embeddings, lstm, vocab)\n",
        "if torch.cuda.is_available():\n",
        "    cuda_device = 0\n",
        "    model = model.cuda(cuda_device)\n",
        "else:\n",
        "    cuda_device = -1\n",
        "# optimizer = optim.AdamW(model.parameters(), lr=1e-4, eps=1e-8)\n",
        "optimizer = optim.SGD(model.parameters(), lr=0.1)\n",
        "iterator = BucketIterator(batch_size=2, sorting_keys=[(\"tokens\", \"num_tokens\")])\n",
        "iterator.index_with(vocab)\n",
        "trainer = Trainer(model=model,\n",
        "                  optimizer=optimizer,\n",
        "                  iterator=iterator,\n",
        "                  train_dataset=train_dataset,\n",
        "                  validation_dataset=validation_dataset,\n",
        "                  patience=10,\n",
        "                  num_epochs=100,\n",
        "                  cuda_device=cuda_device)\n",
        "trainer.train()"
      ],
      "execution_count": 5,
      "outputs": [
        {
          "output_type": "stream",
          "text": [
            "accuracy: 0.8442, loss: 0.9086 ||: 100%|██████████| 281/281 [00:01<00:00, 199.73it/s]\n",
            "accuracy: 0.7878, loss: 1.2066 ||: 100%|██████████| 12/12 [00:00<00:00, 436.59it/s]\n",
            "accuracy: 0.8442, loss: 0.7298 ||: 100%|██████████| 281/281 [00:01<00:00, 257.74it/s]\n",
            "accuracy: 0.7878, loss: 1.1845 ||: 100%|██████████| 12/12 [00:00<00:00, 477.72it/s]\n",
            "accuracy: 0.8442, loss: 0.7167 ||: 100%|██████████| 281/281 [00:01<00:00, 266.71it/s]\n",
            "accuracy: 0.7878, loss: 1.1779 ||: 100%|██████████| 12/12 [00:00<00:00, 470.38it/s]\n",
            "accuracy: 0.8442, loss: 0.7069 ||: 100%|██████████| 281/281 [00:01<00:00, 265.98it/s]\n",
            "accuracy: 0.7878, loss: 1.1651 ||: 100%|██████████| 12/12 [00:00<00:00, 470.19it/s]\n",
            "accuracy: 0.8442, loss: 0.6993 ||: 100%|██████████| 281/281 [00:01<00:00, 256.11it/s]\n",
            "accuracy: 0.7878, loss: 1.1714 ||: 100%|██████████| 12/12 [00:00<00:00, 450.96it/s]\n",
            "accuracy: 0.8442, loss: 0.6912 ||: 100%|██████████| 281/281 [00:01<00:00, 237.07it/s]\n",
            "accuracy: 0.7878, loss: 1.1546 ||: 100%|██████████| 12/12 [00:00<00:00, 488.52it/s]\n",
            "accuracy: 0.8442, loss: 0.6820 ||: 100%|██████████| 281/281 [00:01<00:00, 259.71it/s]\n",
            "accuracy: 0.7878, loss: 1.1349 ||: 100%|██████████| 12/12 [00:00<00:00, 392.04it/s]\n",
            "accuracy: 0.8442, loss: 0.6711 ||: 100%|██████████| 281/281 [00:01<00:00, 256.10it/s]\n",
            "accuracy: 0.7878, loss: 1.1159 ||: 100%|██████████| 12/12 [00:00<00:00, 429.71it/s]\n",
            "accuracy: 0.8442, loss: 0.6576 ||: 100%|██████████| 281/281 [00:01<00:00, 266.45it/s]\n",
            "accuracy: 0.7878, loss: 1.1093 ||: 100%|██████████| 12/12 [00:00<00:00, 418.50it/s]\n",
            "accuracy: 0.8442, loss: 0.6403 ||: 100%|██████████| 281/281 [00:01<00:00, 265.75it/s]\n",
            "accuracy: 0.7878, loss: 1.0856 ||: 100%|██████████| 12/12 [00:00<00:00, 466.35it/s]\n",
            "accuracy: 0.8442, loss: 0.6155 ||: 100%|██████████| 281/281 [00:01<00:00, 260.29it/s]\n",
            "accuracy: 0.7878, loss: 1.0490 ||: 100%|██████████| 12/12 [00:00<00:00, 495.02it/s]\n",
            "accuracy: 0.8442, loss: 0.5825 ||: 100%|██████████| 281/281 [00:01<00:00, 265.83it/s]\n",
            "accuracy: 0.7878, loss: 0.9721 ||: 100%|██████████| 12/12 [00:00<00:00, 404.21it/s]\n",
            "accuracy: 0.8459, loss: 0.5411 ||: 100%|██████████| 281/281 [00:01<00:00, 237.17it/s]\n",
            "accuracy: 0.7878, loss: 0.9126 ||: 100%|██████████| 12/12 [00:00<00:00, 427.09it/s]\n",
            "accuracy: 0.8558, loss: 0.5031 ||: 100%|██████████| 281/281 [00:01<00:00, 257.87it/s]\n",
            "accuracy: 0.7878, loss: 0.8647 ||: 100%|██████████| 12/12 [00:00<00:00, 371.66it/s]\n",
            "accuracy: 0.8588, loss: 0.4719 ||: 100%|██████████| 281/281 [00:01<00:00, 263.58it/s]\n",
            "accuracy: 0.7878, loss: 0.8361 ||: 100%|██████████| 12/12 [00:00<00:00, 508.23it/s]\n",
            "accuracy: 0.8599, loss: 0.4490 ||: 100%|██████████| 281/281 [00:01<00:00, 266.10it/s]\n",
            "accuracy: 0.7898, loss: 0.8012 ||: 100%|██████████| 12/12 [00:00<00:00, 477.08it/s]\n",
            "accuracy: 0.8615, loss: 0.4308 ||: 100%|██████████| 281/281 [00:01<00:00, 252.46it/s]\n",
            "accuracy: 0.7939, loss: 0.7724 ||: 100%|██████████| 12/12 [00:00<00:00, 402.94it/s]\n",
            "accuracy: 0.8620, loss: 0.4160 ||: 100%|██████████| 281/281 [00:01<00:00, 263.72it/s]\n",
            "accuracy: 0.7939, loss: 0.7625 ||: 100%|██████████| 12/12 [00:00<00:00, 472.22it/s]\n",
            "accuracy: 0.8628, loss: 0.4061 ||: 100%|██████████| 281/281 [00:01<00:00, 254.10it/s]\n",
            "accuracy: 0.7939, loss: 0.7574 ||: 100%|██████████| 12/12 [00:00<00:00, 452.94it/s]\n",
            "accuracy: 0.8633, loss: 0.3989 ||: 100%|██████████| 281/281 [00:01<00:00, 264.25it/s]\n",
            "accuracy: 0.7939, loss: 0.7418 ||: 100%|██████████| 12/12 [00:00<00:00, 510.75it/s]\n",
            "accuracy: 0.8646, loss: 0.3915 ||: 100%|██████████| 281/281 [00:01<00:00, 265.60it/s]\n",
            "accuracy: 0.7939, loss: 0.7584 ||: 100%|██████████| 12/12 [00:00<00:00, 441.78it/s]\n",
            "accuracy: 0.8637, loss: 0.3877 ||: 100%|██████████| 281/281 [00:01<00:00, 267.58it/s]\n",
            "accuracy: 0.7939, loss: 0.7332 ||: 100%|██████████| 12/12 [00:00<00:00, 356.41it/s]\n",
            "accuracy: 0.8633, loss: 0.3810 ||: 100%|██████████| 281/281 [00:01<00:00, 258.40it/s]\n",
            "accuracy: 0.7939, loss: 0.7151 ||: 100%|██████████| 12/12 [00:00<00:00, 509.15it/s]\n",
            "accuracy: 0.8648, loss: 0.3779 ||: 100%|██████████| 281/281 [00:01<00:00, 269.46it/s]\n",
            "accuracy: 0.7939, loss: 0.7405 ||: 100%|██████████| 12/12 [00:00<00:00, 457.75it/s]\n",
            "accuracy: 0.8653, loss: 0.3740 ||: 100%|██████████| 281/281 [00:01<00:00, 234.73it/s]\n",
            "accuracy: 0.7939, loss: 0.7089 ||: 100%|██████████| 12/12 [00:00<00:00, 419.01it/s]\n",
            "accuracy: 0.8655, loss: 0.3699 ||: 100%|██████████| 281/281 [00:01<00:00, 266.66it/s]\n",
            "accuracy: 0.7959, loss: 0.7106 ||: 100%|██████████| 12/12 [00:00<00:00, 420.60it/s]\n",
            "accuracy: 0.8679, loss: 0.3659 ||: 100%|██████████| 281/281 [00:01<00:00, 251.46it/s]\n",
            "accuracy: 0.7939, loss: 0.6946 ||: 100%|██████████| 12/12 [00:00<00:00, 448.15it/s]\n",
            "accuracy: 0.8686, loss: 0.3612 ||: 100%|██████████| 281/281 [00:01<00:00, 224.61it/s]\n",
            "accuracy: 0.7980, loss: 0.7072 ||: 100%|██████████| 12/12 [00:00<00:00, 487.88it/s]\n",
            "accuracy: 0.8710, loss: 0.3580 ||: 100%|██████████| 281/281 [00:01<00:00, 248.62it/s]\n",
            "accuracy: 0.8000, loss: 0.6811 ||: 100%|██████████| 12/12 [00:00<00:00, 421.67it/s]\n",
            "accuracy: 0.8708, loss: 0.3547 ||: 100%|██████████| 281/281 [00:01<00:00, 252.97it/s]\n",
            "accuracy: 0.7980, loss: 0.6879 ||: 100%|██████████| 12/12 [00:00<00:00, 462.71it/s]\n",
            "accuracy: 0.8715, loss: 0.3507 ||: 100%|██████████| 281/281 [00:01<00:00, 257.97it/s]\n",
            "accuracy: 0.8041, loss: 0.6709 ||: 100%|██████████| 12/12 [00:00<00:00, 401.38it/s]\n",
            "accuracy: 0.8753, loss: 0.3480 ||: 100%|██████████| 281/281 [00:01<00:00, 257.65it/s]\n",
            "accuracy: 0.8000, loss: 0.6627 ||: 100%|██████████| 12/12 [00:00<00:00, 517.39it/s]\n",
            "accuracy: 0.8744, loss: 0.3450 ||: 100%|██████████| 281/281 [00:01<00:00, 243.38it/s]\n",
            "accuracy: 0.8061, loss: 0.6607 ||: 100%|██████████| 12/12 [00:00<00:00, 487.26it/s]\n",
            "accuracy: 0.8753, loss: 0.3405 ||: 100%|██████████| 281/281 [00:01<00:00, 248.12it/s]\n",
            "accuracy: 0.8020, loss: 0.6695 ||: 100%|██████████| 12/12 [00:00<00:00, 449.82it/s]\n",
            "accuracy: 0.8763, loss: 0.3385 ||: 100%|██████████| 281/281 [00:01<00:00, 240.06it/s]\n",
            "accuracy: 0.8061, loss: 0.6696 ||: 100%|██████████| 12/12 [00:00<00:00, 420.19it/s]\n",
            "accuracy: 0.8779, loss: 0.3368 ||: 100%|██████████| 281/281 [00:01<00:00, 263.35it/s]\n",
            "accuracy: 0.8184, loss: 0.6515 ||: 100%|██████████| 12/12 [00:00<00:00, 440.45it/s]\n",
            "accuracy: 0.8773, loss: 0.3335 ||: 100%|██████████| 281/281 [00:01<00:00, 242.07it/s]\n",
            "accuracy: 0.8082, loss: 0.6513 ||: 100%|██████████| 12/12 [00:00<00:00, 457.24it/s]\n",
            "accuracy: 0.8788, loss: 0.3302 ||: 100%|██████████| 281/281 [00:01<00:00, 248.42it/s]\n",
            "accuracy: 0.8265, loss: 0.6334 ||: 100%|██████████| 12/12 [00:00<00:00, 437.75it/s]\n",
            "accuracy: 0.8813, loss: 0.3275 ||: 100%|██████████| 281/281 [00:01<00:00, 259.19it/s]\n",
            "accuracy: 0.8224, loss: 0.6510 ||: 100%|██████████| 12/12 [00:00<00:00, 478.42it/s]\n",
            "accuracy: 0.8815, loss: 0.3249 ||: 100%|██████████| 281/281 [00:01<00:00, 238.50it/s]\n",
            "accuracy: 0.8306, loss: 0.6253 ||: 100%|██████████| 12/12 [00:00<00:00, 399.81it/s]\n",
            "accuracy: 0.8824, loss: 0.3227 ||: 100%|██████████| 281/281 [00:01<00:00, 255.64it/s]\n",
            "accuracy: 0.8306, loss: 0.6297 ||: 100%|██████████| 12/12 [00:00<00:00, 453.33it/s]\n",
            "accuracy: 0.8840, loss: 0.3221 ||: 100%|██████████| 281/281 [00:01<00:00, 229.03it/s]\n",
            "accuracy: 0.8245, loss: 0.6322 ||: 100%|██████████| 12/12 [00:00<00:00, 375.32it/s]\n",
            "accuracy: 0.8829, loss: 0.3199 ||: 100%|██████████| 281/281 [00:01<00:00, 252.93it/s]\n",
            "accuracy: 0.8347, loss: 0.6229 ||: 100%|██████████| 12/12 [00:00<00:00, 449.53it/s]\n",
            "accuracy: 0.8871, loss: 0.3159 ||: 100%|██████████| 281/281 [00:01<00:00, 270.03it/s]\n",
            "accuracy: 0.8327, loss: 0.6279 ||: 100%|██████████| 12/12 [00:00<00:00, 484.54it/s]\n",
            "accuracy: 0.8884, loss: 0.3137 ||: 100%|██████████| 281/281 [00:01<00:00, 256.18it/s]\n",
            "accuracy: 0.8306, loss: 0.6290 ||: 100%|██████████| 12/12 [00:00<00:00, 395.36it/s]\n",
            "accuracy: 0.8890, loss: 0.3126 ||: 100%|██████████| 281/281 [00:01<00:00, 264.92it/s]\n",
            "accuracy: 0.8408, loss: 0.6062 ||: 100%|██████████| 12/12 [00:00<00:00, 393.27it/s]\n",
            "accuracy: 0.8895, loss: 0.3099 ||: 100%|██████████| 281/281 [00:01<00:00, 244.74it/s]\n",
            "accuracy: 0.8367, loss: 0.6012 ||: 100%|██████████| 12/12 [00:00<00:00, 413.93it/s]\n",
            "accuracy: 0.8898, loss: 0.3066 ||: 100%|██████████| 281/281 [00:01<00:00, 241.78it/s]\n",
            "accuracy: 0.8347, loss: 0.6132 ||: 100%|██████████| 12/12 [00:00<00:00, 377.34it/s]\n",
            "accuracy: 0.8907, loss: 0.3061 ||: 100%|██████████| 281/281 [00:01<00:00, 244.77it/s]\n",
            "accuracy: 0.8347, loss: 0.6009 ||: 100%|██████████| 12/12 [00:00<00:00, 420.71it/s]\n",
            "accuracy: 0.8925, loss: 0.3021 ||: 100%|██████████| 281/281 [00:01<00:00, 251.75it/s]\n",
            "accuracy: 0.8469, loss: 0.5861 ||: 100%|██████████| 12/12 [00:00<00:00, 398.03it/s]\n",
            "accuracy: 0.8946, loss: 0.2992 ||: 100%|██████████| 281/281 [00:01<00:00, 239.18it/s]\n",
            "accuracy: 0.8429, loss: 0.5810 ||: 100%|██████████| 12/12 [00:00<00:00, 527.30it/s]\n",
            "accuracy: 0.8954, loss: 0.2979 ||: 100%|██████████| 281/281 [00:01<00:00, 263.19it/s]\n",
            "accuracy: 0.8490, loss: 0.5734 ||: 100%|██████████| 12/12 [00:00<00:00, 453.61it/s]\n",
            "accuracy: 0.8944, loss: 0.2956 ||: 100%|██████████| 281/281 [00:01<00:00, 253.85it/s]\n",
            "accuracy: 0.8490, loss: 0.5716 ||: 100%|██████████| 12/12 [00:00<00:00, 518.03it/s]\n",
            "accuracy: 0.8965, loss: 0.2938 ||: 100%|██████████| 281/281 [00:01<00:00, 254.25it/s]\n",
            "accuracy: 0.8490, loss: 0.5697 ||: 100%|██████████| 12/12 [00:00<00:00, 517.08it/s]\n",
            "accuracy: 0.8969, loss: 0.2902 ||: 100%|██████████| 281/281 [00:01<00:00, 262.51it/s]\n",
            "accuracy: 0.8551, loss: 0.5592 ||: 100%|██████████| 12/12 [00:00<00:00, 444.96it/s]\n",
            "accuracy: 0.8959, loss: 0.2889 ||: 100%|██████████| 281/281 [00:01<00:00, 260.20it/s]\n",
            "accuracy: 0.8449, loss: 0.5760 ||: 100%|██████████| 12/12 [00:00<00:00, 489.81it/s]\n",
            "accuracy: 0.8978, loss: 0.2867 ||: 100%|██████████| 281/281 [00:01<00:00, 257.99it/s]\n",
            "accuracy: 0.8531, loss: 0.5680 ||: 100%|██████████| 12/12 [00:00<00:00, 445.25it/s]\n",
            "accuracy: 0.8994, loss: 0.2852 ||: 100%|██████████| 281/281 [00:01<00:00, 264.04it/s]\n",
            "accuracy: 0.8531, loss: 0.5561 ||: 100%|██████████| 12/12 [00:00<00:00, 406.86it/s]\n",
            "accuracy: 0.9003, loss: 0.2836 ||: 100%|██████████| 281/281 [00:01<00:00, 252.29it/s]\n",
            "accuracy: 0.8531, loss: 0.5514 ||: 100%|██████████| 12/12 [00:00<00:00, 401.33it/s]\n",
            "accuracy: 0.9018, loss: 0.2799 ||: 100%|██████████| 281/281 [00:01<00:00, 258.09it/s]\n",
            "accuracy: 0.8551, loss: 0.5417 ||: 100%|██████████| 12/12 [00:00<00:00, 461.11it/s]\n",
            "accuracy: 0.9030, loss: 0.2776 ||: 100%|██████████| 281/281 [00:01<00:00, 253.54it/s]\n",
            "accuracy: 0.8510, loss: 0.5386 ||: 100%|██████████| 12/12 [00:00<00:00, 467.98it/s]\n",
            "accuracy: 0.9042, loss: 0.2746 ||: 100%|██████████| 281/281 [00:01<00:00, 247.84it/s]\n",
            "accuracy: 0.8510, loss: 0.5234 ||: 100%|██████████| 12/12 [00:00<00:00, 458.41it/s]\n",
            "accuracy: 0.9038, loss: 0.2728 ||: 100%|██████████| 281/281 [00:01<00:00, 247.29it/s]\n",
            "accuracy: 0.8571, loss: 0.5254 ||: 100%|██████████| 12/12 [00:00<00:00, 404.96it/s]\n",
            "accuracy: 0.9032, loss: 0.2710 ||: 100%|██████████| 281/281 [00:01<00:00, 265.44it/s]\n",
            "accuracy: 0.8531, loss: 0.5261 ||: 100%|██████████| 12/12 [00:00<00:00, 429.61it/s]\n",
            "accuracy: 0.9050, loss: 0.2671 ||: 100%|██████████| 281/281 [00:01<00:00, 263.20it/s]\n",
            "accuracy: 0.8633, loss: 0.5144 ||: 100%|██████████| 12/12 [00:00<00:00, 482.82it/s]\n",
            "accuracy: 0.9056, loss: 0.2654 ||: 100%|██████████| 281/281 [00:01<00:00, 248.46it/s]\n",
            "accuracy: 0.8612, loss: 0.5173 ||: 100%|██████████| 12/12 [00:00<00:00, 473.16it/s]\n",
            "accuracy: 0.9055, loss: 0.2640 ||: 100%|██████████| 281/281 [00:01<00:00, 260.78it/s]\n",
            "accuracy: 0.8571, loss: 0.5060 ||: 100%|██████████| 12/12 [00:00<00:00, 469.46it/s]\n",
            "accuracy: 0.9077, loss: 0.2590 ||: 100%|██████████| 281/281 [00:01<00:00, 263.48it/s]\n",
            "accuracy: 0.8571, loss: 0.5033 ||: 100%|██████████| 12/12 [00:00<00:00, 426.63it/s]\n",
            "accuracy: 0.9087, loss: 0.2556 ||: 100%|██████████| 281/281 [00:01<00:00, 267.67it/s]\n",
            "accuracy: 0.8571, loss: 0.4930 ||: 100%|██████████| 12/12 [00:00<00:00, 453.00it/s]\n",
            "accuracy: 0.9082, loss: 0.2542 ||: 100%|██████████| 281/281 [00:01<00:00, 234.47it/s]\n",
            "accuracy: 0.8673, loss: 0.4942 ||: 100%|██████████| 12/12 [00:00<00:00, 465.45it/s]\n",
            "accuracy: 0.9105, loss: 0.2513 ||: 100%|██████████| 281/281 [00:01<00:00, 251.11it/s]\n",
            "accuracy: 0.8633, loss: 0.4894 ||: 100%|██████████| 12/12 [00:00<00:00, 455.67it/s]\n",
            "accuracy: 0.9111, loss: 0.2488 ||: 100%|██████████| 281/281 [00:01<00:00, 262.06it/s]\n",
            "accuracy: 0.8653, loss: 0.4815 ||: 100%|██████████| 12/12 [00:00<00:00, 465.13it/s]\n",
            "accuracy: 0.9128, loss: 0.2460 ||: 100%|██████████| 281/281 [00:01<00:00, 226.20it/s]\n",
            "accuracy: 0.8653, loss: 0.4943 ||: 100%|██████████| 12/12 [00:00<00:00, 351.59it/s]\n",
            "accuracy: 0.9137, loss: 0.2446 ||: 100%|██████████| 281/281 [00:01<00:00, 240.70it/s]\n",
            "accuracy: 0.8653, loss: 0.4688 ||: 100%|██████████| 12/12 [00:00<00:00, 508.02it/s]\n",
            "accuracy: 0.9139, loss: 0.2407 ||: 100%|██████████| 281/281 [00:01<00:00, 263.07it/s]\n",
            "accuracy: 0.8673, loss: 0.4775 ||: 100%|██████████| 12/12 [00:00<00:00, 447.81it/s]\n",
            "accuracy: 0.9158, loss: 0.2405 ||: 100%|██████████| 281/281 [00:01<00:00, 264.53it/s]\n",
            "accuracy: 0.8612, loss: 0.4637 ||: 100%|██████████| 12/12 [00:00<00:00, 474.18it/s]\n",
            "accuracy: 0.9156, loss: 0.2382 ||: 100%|██████████| 281/281 [00:01<00:00, 230.22it/s]\n",
            "accuracy: 0.8673, loss: 0.4541 ||: 100%|██████████| 12/12 [00:00<00:00, 462.36it/s]\n",
            "accuracy: 0.9173, loss: 0.2345 ||: 100%|██████████| 281/281 [00:01<00:00, 255.89it/s]\n",
            "accuracy: 0.8673, loss: 0.4727 ||: 100%|██████████| 12/12 [00:00<00:00, 379.02it/s]\n",
            "accuracy: 0.9178, loss: 0.2325 ||: 100%|██████████| 281/281 [00:01<00:00, 226.04it/s]\n",
            "accuracy: 0.8653, loss: 0.4559 ||: 100%|██████████| 12/12 [00:00<00:00, 479.19it/s]\n",
            "accuracy: 0.9165, loss: 0.2324 ||: 100%|██████████| 281/281 [00:01<00:00, 243.80it/s]\n",
            "accuracy: 0.8673, loss: 0.4480 ||: 100%|██████████| 12/12 [00:00<00:00, 373.94it/s]\n",
            "accuracy: 0.9167, loss: 0.2303 ||: 100%|██████████| 281/281 [00:01<00:00, 236.76it/s]\n",
            "accuracy: 0.8694, loss: 0.4410 ||: 100%|██████████| 12/12 [00:00<00:00, 490.32it/s]\n",
            "accuracy: 0.9189, loss: 0.2279 ||: 100%|██████████| 281/281 [00:01<00:00, 260.53it/s]\n",
            "accuracy: 0.8694, loss: 0.4471 ||: 100%|██████████| 12/12 [00:00<00:00, 434.64it/s]\n",
            "accuracy: 0.9179, loss: 0.2244 ||: 100%|██████████| 281/281 [00:01<00:00, 252.37it/s]\n",
            "accuracy: 0.8714, loss: 0.4423 ||: 100%|██████████| 12/12 [00:00<00:00, 466.87it/s]\n",
            "accuracy: 0.9174, loss: 0.2246 ||: 100%|██████████| 281/281 [00:01<00:00, 266.11it/s]\n",
            "accuracy: 0.8694, loss: 0.4521 ||: 100%|██████████| 12/12 [00:00<00:00, 454.21it/s]\n",
            "accuracy: 0.9187, loss: 0.2207 ||: 100%|██████████| 281/281 [00:01<00:00, 236.33it/s]\n",
            "accuracy: 0.8510, loss: 0.5291 ||: 100%|██████████| 12/12 [00:00<00:00, 493.95it/s]\n",
            "accuracy: 0.9191, loss: 0.2206 ||: 100%|██████████| 281/281 [00:01<00:00, 232.14it/s]\n",
            "accuracy: 0.8735, loss: 0.4253 ||: 100%|██████████| 12/12 [00:00<00:00, 440.25it/s]\n",
            "accuracy: 0.9199, loss: 0.2165 ||: 100%|██████████| 281/281 [00:01<00:00, 256.41it/s]\n",
            "accuracy: 0.8735, loss: 0.4210 ||: 100%|██████████| 12/12 [00:00<00:00, 386.57it/s]\n",
            "accuracy: 0.9205, loss: 0.2152 ||: 100%|██████████| 281/281 [00:01<00:00, 263.40it/s]\n",
            "accuracy: 0.8735, loss: 0.4189 ||: 100%|██████████| 12/12 [00:00<00:00, 467.40it/s]\n",
            "accuracy: 0.9207, loss: 0.2152 ||: 100%|██████████| 281/281 [00:01<00:00, 261.41it/s]\n",
            "accuracy: 0.8755, loss: 0.4162 ||: 100%|██████████| 12/12 [00:00<00:00, 483.73it/s]\n",
            "accuracy: 0.9207, loss: 0.2133 ||: 100%|██████████| 281/281 [00:01<00:00, 258.47it/s]\n",
            "accuracy: 0.8776, loss: 0.4056 ||: 100%|██████████| 12/12 [00:00<00:00, 505.38it/s]\n",
            "accuracy: 0.9214, loss: 0.2109 ||: 100%|██████████| 281/281 [00:01<00:00, 262.76it/s]\n",
            "accuracy: 0.8755, loss: 0.4100 ||: 100%|██████████| 12/12 [00:00<00:00, 496.51it/s]\n",
            "accuracy: 0.9229, loss: 0.2088 ||: 100%|██████████| 281/281 [00:01<00:00, 258.90it/s]\n",
            "accuracy: 0.8776, loss: 0.4007 ||: 100%|██████████| 12/12 [00:00<00:00, 514.52it/s]\n",
            "accuracy: 0.9218, loss: 0.2068 ||: 100%|██████████| 281/281 [00:01<00:00, 262.93it/s]\n",
            "accuracy: 0.8755, loss: 0.4026 ||: 100%|██████████| 12/12 [00:00<00:00, 496.82it/s]\n",
            "accuracy: 0.9226, loss: 0.2052 ||: 100%|██████████| 281/281 [00:01<00:00, 265.24it/s]\n",
            "accuracy: 0.8735, loss: 0.4263 ||: 100%|██████████| 12/12 [00:00<00:00, 434.88it/s]\n",
            "accuracy: 0.9232, loss: 0.2045 ||: 100%|██████████| 281/281 [00:01<00:00, 256.07it/s]\n",
            "accuracy: 0.8796, loss: 0.3917 ||: 100%|██████████| 12/12 [00:00<00:00, 475.04it/s]\n",
            "accuracy: 0.9235, loss: 0.2012 ||: 100%|██████████| 281/281 [00:01<00:00, 251.71it/s]\n",
            "accuracy: 0.8796, loss: 0.3857 ||: 100%|██████████| 12/12 [00:00<00:00, 481.37it/s]\n",
            "accuracy: 0.9237, loss: 0.2021 ||: 100%|██████████| 281/281 [00:01<00:00, 258.42it/s]\n",
            "accuracy: 0.8796, loss: 0.3974 ||: 100%|██████████| 12/12 [00:00<00:00, 492.15it/s]\n",
            "accuracy: 0.9249, loss: 0.1981 ||: 100%|██████████| 281/281 [00:01<00:00, 259.23it/s]\n",
            "accuracy: 0.8735, loss: 0.3913 ||: 100%|██████████| 12/12 [00:00<00:00, 487.77it/s]\n",
            "accuracy: 0.9253, loss: 0.1969 ||: 100%|██████████| 281/281 [00:01<00:00, 235.93it/s]\n",
            "accuracy: 0.8755, loss: 0.3906 ||: 100%|██████████| 12/12 [00:00<00:00, 500.77it/s]\n",
            "accuracy: 0.9253, loss: 0.1935 ||: 100%|██████████| 281/281 [00:01<00:00, 253.03it/s]\n",
            "accuracy: 0.8796, loss: 0.3833 ||: 100%|██████████| 12/12 [00:00<00:00, 369.09it/s]\n"
          ],
          "name": "stderr"
        },
        {
          "output_type": "execute_result",
          "data": {
            "text/plain": [
              "{'best_epoch': 99,\n",
              " 'best_validation_accuracy': 0.8795918367346939,\n",
              " 'best_validation_loss': 0.3832807225893096,\n",
              " 'epoch': 99,\n",
              " 'peak_cpu_memory_MB': 3223.36,\n",
              " 'peak_gpu_0_memory_MB': 1060,\n",
              " 'training_accuracy': 0.9253257070225611,\n",
              " 'training_cpu_memory_MB': 3223.36,\n",
              " 'training_duration': '0:02:01.533069',\n",
              " 'training_epochs': 99,\n",
              " 'training_gpu_0_memory_MB': 1060,\n",
              " 'training_loss': 0.19348942842545797,\n",
              " 'training_start_epoch': 0,\n",
              " 'validation_accuracy': 0.8795918367346939,\n",
              " 'validation_loss': 0.3832807225893096}"
            ]
          },
          "metadata": {
            "tags": []
          },
          "execution_count": 5
        }
      ]
    },
    {
      "cell_type": "markdown",
      "metadata": {
        "id": "mwN6ctqVV0tf"
      },
      "source": [
        "## Evaluation"
      ]
    },
    {
      "cell_type": "markdown",
      "metadata": {
        "id": "qkDs_UdIeuFz"
      },
      "source": [
        "The simple code below loops over the validation set, applying the model to each exmaple and collecting out the input token, gold-standard output, and model output. You can see from these methods how to access ground truth and model outputs for evaluation."
      ]
    },
    {
      "cell_type": "code",
      "metadata": {
        "id": "S0bE4fmLik08",
        "colab": {
          "base_uri": "https://localhost:8080/"
        },
        "outputId": "b7f18b55-8e1c-4de6-ce74-b03cf90ed20c"
      },
      "source": [
        "def tag_sentence(s):\n",
        "  tag_ids = np.argmax(model.forward_on_instance(s)['tag_logits'], axis=-1)\n",
        "  fields = zip(s['tokens'], s['tags'], [model.vocab.get_token_from_index(i, 'labels') for i in tag_ids])\n",
        "  return list(fields)\n",
        "\n",
        "baseline_output = [tag_sentence(i) for i in validation_dataset]\n",
        "## Show the first example\n",
        "baseline_output[0]"
      ],
      "execution_count": 6,
      "outputs": [
        {
          "output_type": "execute_result",
          "data": {
            "text/plain": [
              "[(With, 'O', 'O'),\n",
              " (a, 'O', 'O'),\n",
              " (wave, 'O', 'O'),\n",
              " (of, 'O', 'O'),\n",
              " (his, 'O', 'O'),\n",
              " (hand, 'O', 'O'),\n",
              " (,, 'O', 'O'),\n",
              " (Peng, 'B-PERSON', 'B-PERSON'),\n",
              " (Dehuai, 'I-PERSON', 'I-ORG'),\n",
              " (said, 'O', 'O'),\n",
              " (that, 'O', 'O'),\n",
              " (despite, 'O', 'O'),\n",
              " (being, 'O', 'O'),\n",
              " (over, 'O', 'O'),\n",
              " (100, 'B-CARDINAL', 'B-CARDINAL'),\n",
              " (regiments, 'O', 'O'),\n",
              " (,, 'O', 'O'),\n",
              " (let, 'O', 'O'),\n",
              " ('s, 'O', 'O'),\n",
              " (call, 'O', 'O'),\n",
              " (this, 'O', 'O'),\n",
              " (campaign, 'O', 'O'),\n",
              " (the, 'B-EVENT', 'O'),\n",
              " (Hundred, 'I-EVENT', 'I-EVENT'),\n",
              " (Regiments, 'I-EVENT', 'I-EVENT'),\n",
              " (Offensive, 'I-EVENT', 'I-EVENT'),\n",
              " (., 'O', 'O')]"
            ]
          },
          "metadata": {
            "tags": []
          },
          "execution_count": 6
        }
      ]
    },
    {
      "cell_type": "markdown",
      "metadata": {
        "id": "BpYMx7RVfCyT"
      },
      "source": [
        "Now, you can implement two evaluation functions: `violations` and `span_stats`."
      ]
    },
    {
      "cell_type": "code",
      "metadata": {
        "colab": {
          "base_uri": "https://localhost:8080/"
        },
        "id": "Uq2IIRLOcaxN",
        "outputId": "29f6c949-56e5-4914-c086-f6798affe5a4"
      },
      "source": [
        "!pip install seqeval\n",
        "import seqeval"
      ],
      "execution_count": 7,
      "outputs": [
        {
          "output_type": "stream",
          "text": [
            "Collecting seqeval\n",
            "\u001b[?25l  Downloading https://files.pythonhosted.org/packages/9d/2d/233c79d5b4e5ab1dbf111242299153f3caddddbb691219f363ad55ce783d/seqeval-1.2.2.tar.gz (43kB)\n",
            "\r\u001b[K     |███████▌                        | 10kB 24.1MB/s eta 0:00:01\r\u001b[K     |███████████████                 | 20kB 30.5MB/s eta 0:00:01\r\u001b[K     |██████████████████████▌         | 30kB 20.9MB/s eta 0:00:01\r\u001b[K     |██████████████████████████████  | 40kB 24.6MB/s eta 0:00:01\r\u001b[K     |████████████████████████████████| 51kB 6.8MB/s \n",
            "\u001b[?25hRequirement already satisfied: numpy>=1.14.0 in /usr/local/lib/python3.7/dist-packages (from seqeval) (1.19.5)\n",
            "Requirement already satisfied: scikit-learn>=0.21.3 in /usr/local/lib/python3.7/dist-packages (from seqeval) (0.22.2.post1)\n",
            "Requirement already satisfied: joblib>=0.11 in /usr/local/lib/python3.7/dist-packages (from scikit-learn>=0.21.3->seqeval) (1.0.1)\n",
            "Requirement already satisfied: scipy>=0.17.0 in /usr/local/lib/python3.7/dist-packages (from scikit-learn>=0.21.3->seqeval) (1.4.1)\n",
            "Building wheels for collected packages: seqeval\n",
            "  Building wheel for seqeval (setup.py) ... \u001b[?25l\u001b[?25hdone\n",
            "  Created wheel for seqeval: filename=seqeval-1.2.2-cp37-none-any.whl size=16172 sha256=511d719b628767344c86acdc386658216014278d490dccf19b4c303e08f8229e\n",
            "  Stored in directory: /root/.cache/pip/wheels/52/df/1b/45d75646c37428f7e626214704a0e35bd3cfc32eda37e59e5f\n",
            "Successfully built seqeval\n",
            "Installing collected packages: seqeval\n",
            "Successfully installed seqeval-1.2.2\n"
          ],
          "name": "stdout"
        }
      ]
    },
    {
      "cell_type": "code",
      "metadata": {
        "id": "P042A2Ofg3wa",
        "colab": {
          "base_uri": "https://localhost:8080/"
        },
        "outputId": "3ab36ffe-061b-43f1-c1d5-1e1ba778e212"
      },
      "source": [
        "# TODO: count the number of NER label violations,\n",
        "# such as O followed by I-TYPE or B-TYPE followed by\n",
        "# I-OTHER_TYPE\n",
        "# Take tagger output as input\n",
        "def violations(tagged):\n",
        "  count = 0\n",
        "  for sentence in tagged:\n",
        "    for i, t in enumerate(sentence):\n",
        "      t_pred = t[2]\n",
        "      if t_pred != 'O':\n",
        "        t1, t2 = t_pred.split('-')\n",
        "        if t1 == 'I':\n",
        "          # if the I-TYPE tag follows B-TYPE or I-TYPE \n",
        "          if i != 0 and (sentence[i - 1][2] == f'B-{t2}' or sentence[i - 1][2] == t_pred):\n",
        "            pass\n",
        "          else:\n",
        "            count += 1\n",
        "  return count\n",
        "\n",
        "# TODO: return the span-level precision, recall, and F1\n",
        "# Only count valid spans that start with a B tag,\n",
        "# followed by zero or more I tags of the same type.\n",
        "# This is harsher than the token-level metric that the\n",
        "# LSTM was trained to optimize, but it is the standard way\n",
        "# of evaluating NER systems.\n",
        "# Take tagger output as input\n",
        "from typing import List, Tuple\n",
        "from seqeval.metrics import precision_score, recall_score, f1_score\n",
        "\n",
        "def span_stats(y_true, y_pred):\n",
        "  precision = precision_score(y_true, y_pred)\n",
        "  recall = recall_score(y_true, y_pred)\n",
        "  f1 = f1_score(y_true, y_pred)\n",
        "  \n",
        "  return {'precision': precision,\n",
        "          'recall': recall,\n",
        "          'f1': f1}\n",
        "## You can check how many violations are made by the model output in predictor.\n",
        "violations(baseline_output)"
      ],
      "execution_count": 26,
      "outputs": [
        {
          "output_type": "execute_result",
          "data": {
            "text/plain": [
              "32"
            ]
          },
          "metadata": {
            "tags": []
          },
          "execution_count": 26
        }
      ]
    },
    {
      "cell_type": "code",
      "metadata": {
        "colab": {
          "base_uri": "https://localhost:8080/"
        },
        "id": "6UYSaEEGdiHl",
        "outputId": "0f73d897-f400-4cbc-ce11-620531f5f933"
      },
      "source": [
        "# print(classification_report([[t[1] for t in x] for x in baseline_output], [[t[2] for t in x] for x in baseline_output]))\n",
        "y_true = [[t[1] for t in x] for x in baseline_output]\n",
        "y_pred = [[t[2] for t in x] for x in baseline_output]\n",
        "print(span_stats(y_true, y_pred))"
      ],
      "execution_count": 27,
      "outputs": [
        {
          "output_type": "stream",
          "text": [
            "{'precision': 0.16393442622950818, 'recall': 0.23255813953488372, 'f1': 0.1923076923076923}\n"
          ],
          "name": "stdout"
        }
      ]
    },
    {
      "cell_type": "markdown",
      "metadata": {
        "id": "fX7-quD2hnzB"
      },
      "source": [
        "## Decoding"
      ]
    },
    {
      "cell_type": "markdown",
      "metadata": {
        "id": "WCgW9d9ohsGv"
      },
      "source": [
        "Now you can finally implement the simple Viterbi decoder. The `model` object, when applied to an input sentence, first calculates the scores for each possible output tag for each token. See the expression `model.forward_on_instance(s)['tag_logits']` in the code above.\n",
        "\n",
        "Then, you will construct a transition matrix. You can use the code below to get a list of the tags the model knows about. For a set of K tags, construct a K-by-K matrix with a log(1)=0 when a transition between a given tag pair is valid and a log(0)=-infinity otherwise.\n",
        "\n",
        "Finally, implement a Viterbi decoder that takes the model object and a dataset object and outputs tagged data, just like the `tag_sentence` function above. It should use the Viterbi algorithm with the (max, plus) semiring. You'll be working with sums of log probabilities instead of products of probabilties.\n",
        "\n",
        "Run your `violations` function on the output of this decoder to make sure that there are no invalid tag transitions. Also, compare the span-level metrics on `baseline_output` and your new output using your `span_stats` function."
      ]
    },
    {
      "cell_type": "code",
      "metadata": {
        "id": "VDRoVQ3Eil21"
      },
      "source": [
        "y_pred_list = [model.forward_on_instance(s)['tag_logits'] for s in validation_dataset]"
      ],
      "execution_count": 12,
      "outputs": []
    },
    {
      "cell_type": "code",
      "metadata": {
        "colab": {
          "base_uri": "https://localhost:8080/"
        },
        "id": "nPLohDFYjXyr",
        "outputId": "e5081192-749d-4df7-a58d-63ab910198ae"
      },
      "source": [
        "print(y_pred_list[0].shape)\n",
        "print(y_pred_list[10].shape)"
      ],
      "execution_count": 13,
      "outputs": [
        {
          "output_type": "stream",
          "text": [
            "(27, 34)\n",
            "(21, 34)\n"
          ],
          "name": "stdout"
        }
      ]
    },
    {
      "cell_type": "code",
      "metadata": {
        "id": "nlP8vZhiS68K",
        "colab": {
          "base_uri": "https://localhost:8080/"
        },
        "outputId": "8aea5dc2-90ae-42c7-c282-1f1f1cda2e6b"
      },
      "source": [
        "# This code shows how to map from output vector components to labels\n",
        "print(vocab.get_index_to_token_vocabulary('labels'))"
      ],
      "execution_count": 14,
      "outputs": [
        {
          "output_type": "stream",
          "text": [
            "{0: 'O', 1: 'B-GPE', 2: 'I-ORG', 3: 'I-DATE', 4: 'B-CARDINAL', 5: 'I-EVENT', 6: 'B-PERSON', 7: 'B-NORP', 8: 'B-DATE', 9: 'B-ORG', 10: 'B-LOC', 11: 'I-LOC', 12: 'I-FAC', 13: 'I-PERSON', 14: 'I-GPE', 15: 'I-CARDINAL', 16: 'B-EVENT', 17: 'I-TIME', 18: 'I-WORK_OF_ART', 19: 'B-ORDINAL', 20: 'B-FAC', 21: 'B-TIME', 22: 'I-LAW', 23: 'I-QUANTITY', 24: 'I-NORP', 25: 'I-MONEY', 26: 'B-MONEY', 27: 'B-WORK_OF_ART', 28: 'B-QUANTITY', 29: 'B-LAW', 30: 'B-PRODUCT', 31: 'I-PRODUCT', 32: 'B-PERCENT', 33: 'I-PERCENT'}\n"
          ],
          "name": "stdout"
        }
      ]
    },
    {
      "cell_type": "code",
      "metadata": {
        "colab": {
          "base_uri": "https://localhost:8080/"
        },
        "id": "6jAb1vzgkSzv",
        "outputId": "7d4bf756-5daa-4860-9a59-724a61431f46"
      },
      "source": [
        "i2v = vocab.get_index_to_token_vocabulary('labels')\n",
        "vocab_size = len(i2v)\n",
        "vocab_size"
      ],
      "execution_count": 15,
      "outputs": [
        {
          "output_type": "execute_result",
          "data": {
            "text/plain": [
              "34"
            ]
          },
          "metadata": {
            "tags": []
          },
          "execution_count": 15
        }
      ]
    },
    {
      "cell_type": "code",
      "metadata": {
        "id": "71-LV8Aojka-"
      },
      "source": [
        "# Construct the transition matrix\n",
        "M = np.full(shape=[vocab_size, vocab_size], fill_value=-np.inf)\n",
        "for i in range(vocab_size):\n",
        "  for j in range(vocab_size):\n",
        "    if i2v[i].startswith('I'):\n",
        "      _, token_type = i2v[i].split('-')\n",
        "      # I-TYPE1 cannot transit to I-TYPE2\n",
        "      if i2v[j].startswith('I') and i2v[j].split('-')[1] != token_type:\n",
        "        pass\n",
        "      else:\n",
        "        M[i][j] = 0\n",
        "    if i2v[i].startswith('B'):\n",
        "      _, token_type = i2v[i].split('-')\n",
        "      # B-TYPE1 cannot transit to I-TYPE2 \n",
        "      if i2v[j].startswith('I') and i2v[j].split('-')[1] != token_type:\n",
        "        pass\n",
        "      else:\n",
        "        M[i][j] = 0\n",
        "    if i2v[i].startswith('O'):\n",
        "      # O cannot transit to I\n",
        "      if i2v[j].startswith('I'):\n",
        "        pass\n",
        "      else:\n",
        "        M[i][j] = 0"
      ],
      "execution_count": 16,
      "outputs": []
    },
    {
      "cell_type": "code",
      "metadata": {
        "id": "TkWB5JpTj_V0",
        "colab": {
          "base_uri": "https://localhost:8080/"
        },
        "outputId": "c9ee9aaf-2815-448b-ca2c-e418a2882ecd"
      },
      "source": [
        "print(M.shape)\n",
        "print(M)"
      ],
      "execution_count": 17,
      "outputs": [
        {
          "output_type": "stream",
          "text": [
            "(34, 34)\n",
            "[[  0.   0. -inf ... -inf   0. -inf]\n",
            " [  0.   0. -inf ... -inf   0. -inf]\n",
            " [  0.   0.   0. ... -inf   0. -inf]\n",
            " ...\n",
            " [  0.   0. -inf ...   0.   0. -inf]\n",
            " [  0.   0. -inf ... -inf   0.   0.]\n",
            " [  0.   0. -inf ... -inf   0.   0.]]\n"
          ],
          "name": "stdout"
        }
      ]
    },
    {
      "cell_type": "code",
      "metadata": {
        "colab": {
          "base_uri": "https://localhost:8080/"
        },
        "id": "Mk0C0878hFws",
        "outputId": "1c4e8fe8-e8d5-41a4-91e7-919a8399b734"
      },
      "source": [
        "v2i = {v: k for (k, v) in i2v.items()}\n",
        "print(v2i)"
      ],
      "execution_count": 18,
      "outputs": [
        {
          "output_type": "stream",
          "text": [
            "{'O': 0, 'B-GPE': 1, 'I-ORG': 2, 'I-DATE': 3, 'B-CARDINAL': 4, 'I-EVENT': 5, 'B-PERSON': 6, 'B-NORP': 7, 'B-DATE': 8, 'B-ORG': 9, 'B-LOC': 10, 'I-LOC': 11, 'I-FAC': 12, 'I-PERSON': 13, 'I-GPE': 14, 'I-CARDINAL': 15, 'B-EVENT': 16, 'I-TIME': 17, 'I-WORK_OF_ART': 18, 'B-ORDINAL': 19, 'B-FAC': 20, 'B-TIME': 21, 'I-LAW': 22, 'I-QUANTITY': 23, 'I-NORP': 24, 'I-MONEY': 25, 'B-MONEY': 26, 'B-WORK_OF_ART': 27, 'B-QUANTITY': 28, 'B-LAW': 29, 'B-PRODUCT': 30, 'I-PRODUCT': 31, 'B-PERCENT': 32, 'I-PERCENT': 33}\n"
          ],
          "name": "stdout"
        }
      ]
    },
    {
      "cell_type": "code",
      "metadata": {
        "id": "A5G4EmZGdR7h"
      },
      "source": [
        "start_prob = np.full(shape=[vocab_size,], fill_value=0.0)\n",
        "for i in range(len(start_prob)):\n",
        "  if i2v[i].startswith(\"I\"):\n",
        "    start_prob[i] = -np.inf\n",
        "\n",
        "# for i, sentence in enumerate(baseline_output):\n",
        "#   start_token = sentence[0][-1]\n",
        "#   token_idx = v2i[start_token]\n",
        "#   prob = y_pred[i][0][token_idx]\n",
        "#   start_prob[token_idx] += prob\n",
        "\n",
        "# for i in range(start_prob.shape[0]):\n",
        "#   if start_prob[i] == 0:\n",
        "#     start_prob[i] = -np.inf"
      ],
      "execution_count": 19,
      "outputs": []
    },
    {
      "cell_type": "code",
      "metadata": {
        "colab": {
          "base_uri": "https://localhost:8080/"
        },
        "id": "j7a6HQ2YjCpX",
        "outputId": "8113378a-1abd-4218-db9d-d914cc819355"
      },
      "source": [
        "start_prob"
      ],
      "execution_count": 20,
      "outputs": [
        {
          "output_type": "execute_result",
          "data": {
            "text/plain": [
              "array([  0.,   0., -inf, -inf,   0., -inf,   0.,   0.,   0.,   0.,   0.,\n",
              "       -inf, -inf, -inf, -inf, -inf,   0., -inf, -inf,   0.,   0.,   0.,\n",
              "       -inf, -inf, -inf, -inf,   0.,   0.,   0.,   0.,   0., -inf,   0.,\n",
              "       -inf])"
            ]
          },
          "metadata": {
            "tags": []
          },
          "execution_count": 20
        }
      ]
    },
    {
      "cell_type": "code",
      "metadata": {
        "id": "NyCYS_lUjCjf"
      },
      "source": [
        "def viterbi_decode(y_pred: np.array, start_prob: np.array, M: np.array, i2v: dict):\n",
        "  \"\"\"\n",
        "  y_pred: array of shape [length, vocab_size]\n",
        "  start_prob: array of shape [vocab_size,]\n",
        "  M: the transition matrix of shape [vocab_size, vocab_size]\n",
        "\n",
        "  \"\"\"\n",
        "  length = y_pred.shape[0]\n",
        "  vocab_size = M.shape[0]\n",
        "  \n",
        "  # shape [length, vocab_size], where each element is the probability of the i-th time getting j-th token\n",
        "  prob_matrix = np.zeros(shape=[length, vocab_size])\n",
        "  # shape [length, vocab_size], where each element represents the previous token id\n",
        "  path_matrix = np.zeros(shape=[length, vocab_size], dtype=np.int32)\n",
        "  for i in range(length):\n",
        "    if i == 0:\n",
        "      prob_matrix[i] = start_prob + y_pred[i]\n",
        "      # print(prob_matrix[i])\n",
        "      continue\n",
        "    for j in range(vocab_size):\n",
        "      # Probability of previous state, and probability of each state transition to state j        \n",
        "      tran_prob = prob_matrix[i - 1] + M[:, j]\n",
        "      max_tran_prob = np.max(tran_prob) + y_pred[i][j]\n",
        "      previous_state = np.argmax(tran_prob)\n",
        "      # if i == 1 and j == 1:\n",
        "        # print(tran_prob)\n",
        "        # print(max_tran_prob)\n",
        "        # print(previous_state)\n",
        "      prob_matrix[i][j] = max_tran_prob\n",
        "      path_matrix[i][j] = previous_state\n",
        "  \n",
        "  # return prob_matrix, path_matrix\n",
        "  paths = np.zeros(shape=[vocab_size, length], dtype=np.int32)\n",
        "  path_probs = np.zeros(shape=[vocab_size,])\n",
        "  for j in range(vocab_size):  # For the j-th path\n",
        "    prob = prob_matrix[-1][j] # Starting from the last time step\n",
        "    former_idx = path_matrix[-1][j]\n",
        "    # print(former_idx)\n",
        "    path = [former_idx, j]\n",
        "    for i in range(length - 2, 0, -1): # Time step length - 2 to 1\n",
        "      former_idx = path_matrix[i][former_idx]\n",
        "      path = [former_idx] + path\n",
        "      prob += prob_matrix[i][former_idx]\n",
        "    path = np.asarray(path)\n",
        "    # print(path.shape)\n",
        "    paths[j] = path\n",
        "    path_probs[j] = prob\n",
        "  \n",
        "  best_path, best_prob = max(zip(paths, path_probs), key=lambda x: x[1])\n",
        "  best_path = [i2v[i] for i in best_path]\n",
        "  return best_path"
      ],
      "execution_count": 21,
      "outputs": []
    },
    {
      "cell_type": "code",
      "metadata": {
        "id": "evy4D5SdhSHf"
      },
      "source": [
        "# prob_matrix, path_matrix = viterbi_decode(y_pred_list[0], start_prob, M)\n",
        "best_path = viterbi_decode(y_pred_list[0], start_prob, M, i2v)"
      ],
      "execution_count": 22,
      "outputs": []
    },
    {
      "cell_type": "code",
      "metadata": {
        "colab": {
          "base_uri": "https://localhost:8080/"
        },
        "id": "vQ-OnsJXPGxU",
        "outputId": "66bf039d-f8aa-4468-c0df-a0d6d15ec156"
      },
      "source": [
        "best_path"
      ],
      "execution_count": 23,
      "outputs": [
        {
          "output_type": "execute_result",
          "data": {
            "text/plain": [
              "['O',\n",
              " 'O',\n",
              " 'O',\n",
              " 'O',\n",
              " 'O',\n",
              " 'O',\n",
              " 'O',\n",
              " 'B-PERSON',\n",
              " 'I-PERSON',\n",
              " 'O',\n",
              " 'O',\n",
              " 'O',\n",
              " 'O',\n",
              " 'O',\n",
              " 'B-CARDINAL',\n",
              " 'O',\n",
              " 'O',\n",
              " 'O',\n",
              " 'O',\n",
              " 'O',\n",
              " 'O',\n",
              " 'O',\n",
              " 'B-EVENT',\n",
              " 'I-EVENT',\n",
              " 'I-EVENT',\n",
              " 'I-EVENT',\n",
              " 'O']"
            ]
          },
          "metadata": {
            "tags": []
          },
          "execution_count": 23
        }
      ]
    },
    {
      "cell_type": "code",
      "metadata": {
        "id": "qfXDAFKWkDVc"
      },
      "source": [
        "viterbi_outputs = []\n",
        "for i, y_pred in enumerate(y_pred_list):\n",
        "  viterbi_outputs.append(viterbi_decode(y_pred, start_prob, M, i2v))"
      ],
      "execution_count": 24,
      "outputs": []
    },
    {
      "cell_type": "code",
      "metadata": {
        "colab": {
          "base_uri": "https://localhost:8080/"
        },
        "id": "2WrG6tjTPjPe",
        "outputId": "c065afef-422d-47d7-fb7b-671f0e173685"
      },
      "source": [
        "print(span_stats(y_true, viterbi_outputs))"
      ],
      "execution_count": 31,
      "outputs": [
        {
          "output_type": "stream",
          "text": [
            "{'precision': 0.4318181818181818, 'recall': 0.4418604651162791, 'f1': 0.4367816091954023}\n"
          ],
          "name": "stdout"
        }
      ]
    },
    {
      "cell_type": "code",
      "metadata": {
        "id": "AgF4t6kCPxqr",
        "colab": {
          "base_uri": "https://localhost:8080/"
        },
        "outputId": "7e0ade44-1822-4ac3-fdba-02fef2a9a5f6"
      },
      "source": [
        "print('Number of violations after using Viterbi algorithm:', violations([[(token[0], token[1], viterbi_outputs[i][j]) for j, token in enumerate(sentence)] for i, sentence in enumerate(baseline_output)]))"
      ],
      "execution_count": 34,
      "outputs": [
        {
          "output_type": "stream",
          "text": [
            "Number of violations after using Viterbi algorithm: 0\n"
          ],
          "name": "stdout"
        }
      ]
    },
    {
      "cell_type": "code",
      "metadata": {
        "id": "EkQa6mAiY1cD"
      },
      "source": [
        ""
      ],
      "execution_count": null,
      "outputs": []
    }
  ]
}